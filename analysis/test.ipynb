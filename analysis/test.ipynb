{
 "cells": [
  {
   "cell_type": "code",
   "execution_count": 1,
   "id": "d79f2ade",
   "metadata": {},
   "outputs": [
    {
     "name": "stdout",
     "output_type": "stream",
     "text": [
      "{'товар': {'count': 1, 'sentiments': {'положительный': 1}}, 'качество': {'count': 1, 'sentiments': {'положительный': 1}}, 'доставка': {'count': 2, 'sentiments': {'нейтральный': 1, 'отрицательный': 1}}, 'обслуживание': {'count': 2, 'sentiments': {'положительный': 1, 'отрицательный': 1}}}\n"
     ]
    }
   ],
   "source": [
    "from aspect_analysys import AspectAnalyser\n",
    "\n",
    "reviews = [\n",
    "        \"Отличный товар, очень доволен покупкой!\",\n",
    "        \"Доставка была задержана, но в целом все хорошо.\",\n",
    "        \"Доставка ужасно долгая, но обслуживание отличное.\",\n",
    "        \"Обслуживание ужасное.\"\n",
    "    ]\n",
    "    \n",
    "categories = [\"товар\", \"обслуживание\", \"доставка\", \"цена\", \"качество\", \"интерфейс\", \"другое\"]\n",
    "sentiments = [\"положительный\", \"нейтральный\", \"отрицательный\"]\n",
    "\n",
    "analyzer = AspectAnalyser()\n",
    "results = analyzer.aspect_analysis(reviews, categories, sentiments)\n",
    "stats = analyzer.stats_analysis(results)\n",
    "\n",
    "print(stats)"
   ]
  },
  {
   "cell_type": "code",
   "execution_count": 2,
   "id": "418a642d",
   "metadata": {},
   "outputs": [
    {
     "name": "stdout",
     "output_type": "stream",
     "text": [
      "       category  положительный  отрицательный  нейтральный  всего\n",
      "0         товар              1              0            0      1\n",
      "1      качество              1              0            0      1\n",
      "2      доставка              0              1            1      2\n",
      "3  обслуживание              1              1            0      2\n"
     ]
    }
   ],
   "source": [
    "import pandas as pd\n",
    "\n",
    "\n",
    "sentiment_labels = ['положительный', 'отрицательный', 'нейтральный']\n",
    "\n",
    "# Формируем строки\n",
    "rows = []\n",
    "for category, values in stats.items():\n",
    "    row = {'category': category, 'всего': values['count']}\n",
    "    for sentiment in sentiment_labels:\n",
    "        row[sentiment] = values['sentiments'].get(sentiment, 0)\n",
    "    rows.append(row)\n",
    "\n",
    "# Создание датафрейма\n",
    "df = pd.DataFrame(rows)\n",
    "\n",
    "# Упорядочим столбцы\n",
    "df = df[['category', 'положительный', 'отрицательный', 'нейтральный', 'всего']]\n",
    "\n",
    "# Печать\n",
    "print(df)"
   ]
  },
  {
   "cell_type": "code",
   "execution_count": 8,
   "id": "86abfa6a",
   "metadata": {},
   "outputs": [
    {
     "name": "stdout",
     "output_type": "stream",
     "text": [
      "Согласно таблице, наиболее часто упоминаемыми категориями являются:\n",
      "\n",
      "* Товар (8 отзывов) - имеет преимущественно положительный тон (6 из 8), что указывает на высокое удовлетворение клиентов товарами компании.\n",
      "* Обслуживание (5 отзывов) - имеет преимущественно отрицательный тон (4 из 5), что свидетельствует о неудовлетворенности клиентов качеством обслуживания.\n",
      "\n",
      "Категория \"Доставка\" также упоминается, но в меньшей степени (2 отзыва). Её тональность нейтральная (1 положительный и 1 отрицательный отзыв), что может указывать на средне-непритязливое отношение клиентов к доставке.\n",
      "\n",
      "Категория \"Качество\" упоминается только один раз, с положительной тональностью. Это может быть связано с тем, что высококачественный товар или услуга вызывает у клиента только положительные эмоции и не оставляет впечатления о качестве обслуживания.\n",
      "\n",
      "В целом, анализ отзывов показал, что компании в основном хвалятся товарами и критикуют обслуживание.\n"
     ]
    }
   ],
   "source": [
    "import pandas as pd\n",
    "from langchain_ollama.llms import OllamaLLM\n",
    "\n",
    "\n",
    "df = pd.DataFrame({\n",
    "    \"category\": [\"товар\", \"качество\", \"доставка\", \"обслуживание\"],\n",
    "    \"положительный\": [6, 1, 0, 1],\n",
    "    \"отрицательный\": [2, 0, 1, 4],\n",
    "    \"нейтральный\": [0, 0, 1, 0],\n",
    "    \"всего\": [8, 1, 2, 5]\n",
    "})\n",
    "\n",
    "table_text = df.to_string(index=False)\n",
    "table_text\n",
    "\n",
    "llm = OllamaLLM(model=\"llama3\")\n",
    "\n",
    "# Создаем промпт\n",
    "prompt = f\"\"\"\n",
    "Вот таблица со статистикой анализа отзывов по категориям и тональностям:\n",
    "\n",
    "{table_text}\n",
    "\n",
    "Сделай краткое саммари на русском языке: какие категории чаще всего упоминаются, и опиши каждую категорию по тональности.\n",
    "\"\"\"\n",
    "\n",
    "# Запрос к модели\n",
    "response = llm.invoke(prompt)\n",
    "print(response)"
   ]
  }
 ],
 "metadata": {
  "kernelspec": {
   "display_name": "safevision",
   "language": "python",
   "name": "python3"
  },
  "language_info": {
   "codemirror_mode": {
    "name": "ipython",
    "version": 3
   },
   "file_extension": ".py",
   "mimetype": "text/x-python",
   "name": "python",
   "nbconvert_exporter": "python",
   "pygments_lexer": "ipython3",
   "version": "3.10.13"
  }
 },
 "nbformat": 4,
 "nbformat_minor": 5
}
